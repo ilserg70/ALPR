{
 "cells": [
  {
   "cell_type": "markdown",
   "metadata": {},
   "source": [
    "# Templates of licence plates"
   ]
  },
  {
   "cell_type": "code",
   "execution_count": 1,
   "metadata": {},
   "outputs": [],
   "source": [
    "import cv2\n",
    "import numpy as np\n",
    "from pathlib import Path"
   ]
  },
  {
   "cell_type": "markdown",
   "metadata": {},
   "source": [
    "### Resize to the same size"
   ]
  },
  {
   "cell_type": "code",
   "execution_count": 2,
   "metadata": {},
   "outputs": [],
   "source": [
    "def resize_to_the_same_size(files):\n",
    "    w0, h0 = None, None\n",
    "    for inp_file in  files:\n",
    "        frame = cv2.imread(inp_file)\n",
    "        if w0 is None:\n",
    "            h0, w0, c = frame.shape\n",
    "        else:\n",
    "            frame2 = cv2.resize(frame, (w0, h0), interpolation = cv2.INTER_AREA)\n",
    "            cv2.imwrite(inp_file, frame2)"
   ]
  },
  {
   "cell_type": "code",
   "execution_count": 129,
   "metadata": {},
   "outputs": [],
   "source": [
    "ca_ids = ['001','002','003','004','005','006','007','008','009','010','011','012','013','014','015','016']\n",
    "ca_files = [f\"licence_plates/CA/{id_}.png\" for id_ in ca_ids]\n",
    "resize_to_the_same_size(ca_files)"
   ]
  },
  {
   "cell_type": "code",
   "execution_count": 130,
   "metadata": {},
   "outputs": [],
   "source": [
    "ma_ids = ['001','002','003','004','005','006','007','008']\n",
    "ma_files = [f\"licence_plates/MA/{id_}.png\" for id_ in ma_ids]\n",
    "resize_to_the_same_size(ma_files)"
   ]
  },
  {
   "cell_type": "code",
   "execution_count": 131,
   "metadata": {},
   "outputs": [],
   "source": [
    "tx_ids = ['001','002','003','004','005','006']\n",
    "tx_files = [f\"licence_plates/TX/{id_}.png\" for id_ in tx_ids]\n",
    "resize_to_the_same_size(tx_files)"
   ]
  },
  {
   "cell_type": "code",
   "execution_count": 132,
   "metadata": {},
   "outputs": [],
   "source": [
    "wa_ids = ['001','002','003','004','005','006','007','008','009']\n",
    "wa_files = [f\"licence_plates/WA/{id_}.png\" for id_ in wa_ids]\n",
    "resize_to_the_same_size(wa_files)"
   ]
  },
  {
   "cell_type": "markdown",
   "metadata": {},
   "source": [
    "### Make a template"
   ]
  },
  {
   "cell_type": "code",
   "execution_count": 106,
   "metadata": {},
   "outputs": [],
   "source": [
    "def mk_template(in_dir, file_id, template):\n",
    "    out_dir = Path(in_dir).joinpath(f\"{file_id}\")\n",
    "    out_dir.mkdir(parents=True, exist_ok=True)\n",
    "\n",
    "    frame = cv2.imread(str(Path(in_dir).joinpath(f\"{file_id}.png\")))\n",
    "    h, w, _ = frame.shape\n",
    "    \n",
    "    template['size'] = {'w': w, 'h': h}\n",
    "\n",
    "    color = (0,255,0)\n",
    "    for k, t in template.items():\n",
    "        if k != 'size':\n",
    "            cv2.rectangle(frame, (t['x1'], t['y1']), (t['x1'] + t['w'], t['y1'] + t['h']), color, 1)\n",
    "    cv2.imwrite(str(out_dir.joinpath(f\"{file_id}_.png\")), frame)"
   ]
  },
  {
   "cell_type": "code",
   "execution_count": 119,
   "metadata": {},
   "outputs": [],
   "source": [
    "template = {\n",
    "    'CA': {\n",
    "        'size': {'w': 305, 'h': 155},\n",
    "        'state': {'x1': 55, 'y1': 10, 'w': 200, 'h': 40},\n",
    "        'l1': {'x1': 8, 'y1': 55, 'w': 46, 'h': 85},\n",
    "        'l2': {'x1': 48, 'y1': 55, 'w': 46, 'h': 85},\n",
    "        'l3': {'x1': 88, 'y1': 55, 'w': 46, 'h': 85},\n",
    "        'l4': {'x1': 128, 'y1': 55, 'w': 46, 'h': 85},\n",
    "        'l5': {'x1': 168, 'y1': 55, 'w': 46, 'h': 85},\n",
    "        'l6': {'x1': 208, 'y1': 55, 'w': 46, 'h': 85},\n",
    "        'l7': {'x1': 248, 'y1': 55, 'w': 46, 'h': 85},\n",
    "        'top_left': {'x1': 4, 'y1': 10, 'w': 50,'h': 32},\n",
    "        'top_right': {'x1': 250, 'y1': 10, 'w': 50,'h': 32},\n",
    "        'bottom': {'x1': 70, 'y1': 137, 'w': 165, 'h': 16}\n",
    "    },\n",
    "    'MA': {\n",
    "        'size': {'w': 290, 'h': 146},\n",
    "        'state': {'x1': 60, 'y1': 5, 'w': 180, 'h': 26},\n",
    "        'l1': {'x1': 70, 'y1': 30, 'w': 46, 'h': 42},\n",
    "        'l2': {'x1': 70, 'y1': 70, 'w': 46, 'h': 46},\n",
    "        'l3': {'x1': 110, 'y1': 35, 'w': 46, 'h': 82},\n",
    "        'l4': {'x1': 152, 'y1': 35, 'w': 46, 'h': 82},\n",
    "        'l5': {'x1': 194, 'y1': 35, 'w': 46, 'h': 82},\n",
    "        'l6': {'x1': 236, 'y1': 35, 'w': 46, 'h': 82},\n",
    "        'top_left': {'x1': 8, 'y1': 8, 'w': 55,'h': 26},\n",
    "        'top_right': {'x1': 244, 'y1': 8, 'w': 40,'h': 26},\n",
    "        'left': {'x1': 4, 'y1': 40, 'w': 70, 'h': 70},\n",
    "        'bottom': {'x1': 70, 'y1': 118, 'w': 150, 'h': 22}\n",
    "    },\n",
    "    'TX': {\n",
    "        'size': {'w': 302, 'h': 144},\n",
    "        'state': {'x1': 70, 'y1': 2, 'w': 160, 'h': 38},\n",
    "        'l1': {'x1': 17, 'y1': 40, 'w': 36, 'h': 74},\n",
    "        'l2': {'x1': 50, 'y1': 40, 'w': 36, 'h': 74},\n",
    "        'l3': {'x1': 83, 'y1': 40, 'w': 36, 'h': 74},\n",
    "        'l4': {'x1': 116, 'y1': 40, 'w': 36, 'h': 74},\n",
    "        'l5': {'x1': 154, 'y1': 40, 'w': 36, 'h': 74},\n",
    "        'l6': {'x1': 187, 'y1': 40, 'w': 36, 'h': 74},\n",
    "        'l7': {'x1': 220, 'y1': 40, 'w': 36, 'h': 74},\n",
    "        'l8': {'x1': 253, 'y1': 40, 'w': 36, 'h': 74},\n",
    "        'top_left': {'x1': 4, 'y1': 2, 'w': 50,'h': 38},\n",
    "        'top_right': {'x1': 250, 'y1': 2, 'w': 50,'h': 38},\n",
    "        'bottom': {'x1': 60, 'y1': 120, 'w': 165, 'h': 20}\n",
    "    }\n",
    "}"
   ]
  },
  {
   "cell_type": "code",
   "execution_count": 120,
   "metadata": {},
   "outputs": [
    {
     "name": "stdout",
     "output_type": "stream",
     "text": [
      "{'w': 302, 'h': 144}\n"
     ]
    }
   ],
   "source": [
    "st, n = 'TX', '001'\n",
    "mk_template(f\"licence_plates/{st}\", n, template[st])\n",
    "print(template[st]['size'])"
   ]
  },
  {
   "cell_type": "code",
   "execution_count": 101,
   "metadata": {},
   "outputs": [
    {
     "name": "stdout",
     "output_type": "stream",
     "text": [
      "{'w': 290, 'h': 146}\n"
     ]
    }
   ],
   "source": [
    "st, n = 'MA', '001'\n",
    "mk_template(f\"licence_plates/{st}\", n, template[st])\n",
    "print(template[st]['size'])"
   ]
  },
  {
   "cell_type": "code",
   "execution_count": 100,
   "metadata": {},
   "outputs": [
    {
     "name": "stdout",
     "output_type": "stream",
     "text": [
      "{'w': 305, 'h': 155}\n"
     ]
    }
   ],
   "source": [
    "st, n = 'CA', '001'\n",
    "mk_template(f\"licence_plates/{st}\", n, template[st])\n",
    "print(template[st]['size'])"
   ]
  },
  {
   "cell_type": "markdown",
   "metadata": {},
   "source": [
    "### Normalize template"
   ]
  },
  {
   "cell_type": "code",
   "execution_count": 121,
   "metadata": {},
   "outputs": [],
   "source": [
    "def norm_template(template):\n",
    "    t = {}\n",
    "    for k1, v1 in template.items():\n",
    "        t[k1] = {}\n",
    "        for k2, v2 in v1.items():\n",
    "            if k2 != 'size':\n",
    "                t[k1][k2] = {\n",
    "                    'x1': v2['x1']/v1['size']['w'], \n",
    "                    'w': v2['w']/v1['size']['w'], \n",
    "                    'y1': v2['y1']/v1['size']['h'], \n",
    "                    'h': v2['h']/v1['size']['h']\n",
    "                }\n",
    "    return t"
   ]
  },
  {
   "cell_type": "code",
   "execution_count": 122,
   "metadata": {},
   "outputs": [],
   "source": [
    "n_template = norm_template(template)"
   ]
  },
  {
   "cell_type": "markdown",
   "metadata": {},
   "source": [
    "### Extract ROIs"
   ]
  },
  {
   "cell_type": "code",
   "execution_count": 134,
   "metadata": {},
   "outputs": [],
   "source": [
    "def points(t, w, h):\n",
    "    x1 = int(t['x1'] * w)\n",
    "    y1 = int(t['y1'] * h)\n",
    "    x2 = int((t['x1'] + t['w']) * w)\n",
    "    y2 = int((t['y1'] + t['h']) * h)\n",
    "    return x1, y1, x2, y2\n",
    "\n",
    "def extract_roi(in_dir, ids, template):\n",
    "    for id_ in  ids:\n",
    "        out_dir = Path(in_dir).joinpath(f\"{id_}\")\n",
    "        out_dir.mkdir(parents=True, exist_ok=True)\n",
    "\n",
    "        frame = cv2.imread(str(Path(in_dir).joinpath(f\"{id_}.png\")))\n",
    "        h, w, _ = frame.shape\n",
    "        \n",
    "        for k, t in template.items():\n",
    "            x1, y1, x2, y2 = points(t, w, h)\n",
    "            cv2.imwrite(str(out_dir.joinpath(f\"{id_}_{k}.png\")), frame[y1:y2, x1: x2])\n",
    "            \n",
    "        color = (0,255,0)\n",
    "        for t in template.values():\n",
    "            x1, y1, x2, y2 = points(t, w, h)\n",
    "            cv2.rectangle(frame, (x1, y1), (x2, y2), color, 1)\n",
    "        cv2.imwrite(str(out_dir.joinpath(f\"{id_}_.png\")), frame)            "
   ]
  },
  {
   "cell_type": "code",
   "execution_count": 135,
   "metadata": {},
   "outputs": [],
   "source": [
    "st = 'CA'\n",
    "extract_roi(f\"licence_plates/{st}\", ca_ids, n_template[st])"
   ]
  },
  {
   "cell_type": "code",
   "execution_count": 136,
   "metadata": {},
   "outputs": [],
   "source": [
    "st = 'MA'\n",
    "extract_roi(f\"licence_plates/{st}\", ma_ids, n_template[st])"
   ]
  },
  {
   "cell_type": "code",
   "execution_count": 137,
   "metadata": {},
   "outputs": [],
   "source": [
    "st = 'TX'\n",
    "extract_roi(f\"licence_plates/{st}\", tx_ids, n_template[st])"
   ]
  },
  {
   "cell_type": "code",
   "execution_count": null,
   "metadata": {},
   "outputs": [],
   "source": []
  },
  {
   "cell_type": "code",
   "execution_count": null,
   "metadata": {},
   "outputs": [],
   "source": []
  },
  {
   "cell_type": "markdown",
   "metadata": {},
   "source": [
    "### Summarize images"
   ]
  },
  {
   "cell_type": "code",
   "execution_count": null,
   "metadata": {},
   "outputs": [],
   "source": [
    "def summarize(files, out_file):\n",
    "    frame, n = None, 0\n",
    "    for f_ in files:\n",
    "        frame_ = cv2.imread(f_)\n",
    "        if frame is None:\n",
    "            frame = frame_\n",
    "        else:\n",
    "            frame = frame + frame_\n",
    "        n += 1\n",
    "    cv2.imwrite(out_file, (frame).astype(int))"
   ]
  },
  {
   "cell_type": "code",
   "execution_count": null,
   "metadata": {},
   "outputs": [],
   "source": [
    "files = [f\"licence_plates/CA/{id_}.png\" for id_ in ['001','002','003','004','005','006','007','008','009','010']]\n",
    "summarize(files, \"licence_plates/CA/000.png\")"
   ]
  },
  {
   "cell_type": "code",
   "execution_count": null,
   "metadata": {},
   "outputs": [],
   "source": [
    "frame = cv2.imread(\"licence_plates/MA/001.png\")\n",
    "h, w, _ = frame.shape\n",
    "\n",
    "frame[:,:] = 0\n",
    "\n",
    "color = (0,255,0)\n",
    "for t in template_MA.values():\n",
    "    x1, y1, x2, y2 = points(t, w, h)\n",
    "    cv2.rectangle(frame, (x1, y1), (x2, y2), color, 1)\n",
    "cv2.imwrite(\"licence_plates/MA/000.png\", frame)\n"
   ]
  },
  {
   "cell_type": "markdown",
   "metadata": {},
   "source": [
    "### OCR of single symbols (words)"
   ]
  },
  {
   "cell_type": "code",
   "execution_count": 40,
   "metadata": {},
   "outputs": [],
   "source": [
    "import cv2\n",
    "import pytesseract\n",
    "\n",
    "# Using psm 8 because we only have a single “word”\n",
    "pytesseract.pytesseract.tesseract_cmd = 'tesseract'\n",
    "custom_oem_psm_config = '--dpi 300 --oem 3 --psm 8'\n",
    "\n",
    "def ocr_symbol(img):\n",
    "    gray = cv2.cvtColor(img, cv2.COLOR_RGB2GRAY)\n",
    "    gray = cv2.threshold(gray, 0, 255, cv2.THRESH_BINARY | cv2.THRESH_OTSU)[1]\n",
    "    gray = cv2.medianBlur(gray, 3)\n",
    "    return pytesseract.image_to_string(gray, config=custom_oem_psm_config, timeout=2).strip()"
   ]
  },
  {
   "cell_type": "code",
   "execution_count": 62,
   "metadata": {},
   "outputs": [
    {
     "data": {
      "text/plain": [
       "'Massachusetts'"
      ]
     },
     "execution_count": 62,
     "metadata": {},
     "output_type": "execute_result"
    }
   ],
   "source": [
    "ocr_symbol(cv2.imread(\"licence_plates/MA/001/001_massachusetts.png\"))"
   ]
  },
  {
   "cell_type": "code",
   "execution_count": 48,
   "metadata": {},
   "outputs": [
    {
     "data": {
      "text/plain": [
       "'SEP'"
      ]
     },
     "execution_count": 48,
     "metadata": {},
     "output_type": "execute_result"
    }
   ],
   "source": [
    "ocr_symbol(cv2.imread(\"licence_plates/MA/001/001_top_left.png\"))"
   ]
  },
  {
   "cell_type": "code",
   "execution_count": 66,
   "metadata": {},
   "outputs": [
    {
     "data": {
      "text/plain": [
       "'77YP290'"
      ]
     },
     "execution_count": 66,
     "metadata": {},
     "output_type": "execute_result"
    }
   ],
   "source": [
    "ocr_symbol(cv2.imread(\"licence_plates/CA/001.png\"))"
   ]
  },
  {
   "cell_type": "code",
   "execution_count": 80,
   "metadata": {},
   "outputs": [
    {
     "data": {
      "text/plain": [
       "'Cobiforrie 7 T Y P 2 9 0 amv.ca.gov'"
      ]
     },
     "execution_count": 80,
     "metadata": {},
     "output_type": "execute_result"
    }
   ],
   "source": [
    "ll = ['california','l1','l2','l3','l4','l5','l6','l7','bottom']\n",
    "' '.join([ocr_symbol(cv2.imread(f\"licence_plates/CA/001/001_{l}.png\")) for l in ll])"
   ]
  },
  {
   "cell_type": "code",
   "execution_count": 68,
   "metadata": {},
   "outputs": [
    {
     "data": {
      "text/plain": [
       "'251980'"
      ]
     },
     "execution_count": 68,
     "metadata": {},
     "output_type": "execute_result"
    }
   ],
   "source": [
    "ocr_symbol(cv2.imread(\"licence_plates/MA/001.png\"))"
   ]
  },
  {
   "cell_type": "code",
   "execution_count": 77,
   "metadata": {},
   "outputs": [
    {
     "data": {
      "text/plain": [
       "'SEP Massachusetts Pp Ss 1 9 8 0 | Provect and Serer”'"
      ]
     },
     "execution_count": 77,
     "metadata": {},
     "output_type": "execute_result"
    }
   ],
   "source": [
    "ll = ['top_left','massachusetts','a','b','l1','l2','l3','l4','bottom']\n",
    "' '.join([ocr_symbol(cv2.imread(f\"licence_plates/MA/001/001_{l}.png\")) for l in ll])"
   ]
  },
  {
   "cell_type": "markdown",
   "metadata": {},
   "source": [
    "### OCR with text"
   ]
  },
  {
   "cell_type": "code",
   "execution_count": 36,
   "metadata": {},
   "outputs": [],
   "source": [
    "import cv2\n",
    "import pytesseract\n",
    "import numpy as np\n",
    "\n",
    "def ocr_text(img):\n",
    "    gray = cv2.cvtColor(img, cv2.COLOR_RGB2GRAY)\n",
    "    gray, img_bin = cv2.threshold(gray,128,255,cv2.THRESH_BINARY | cv2.THRESH_OTSU)\n",
    "    gray = cv2.bitwise_not(img_bin)\n",
    "\n",
    "    kernel = np.ones((2, 1), np.uint8)\n",
    "    gray = cv2.erode(gray, kernel, iterations=1)\n",
    "    gray = cv2.dilate(gray, kernel, iterations=1)\n",
    "    return pytesseract.image_to_string(gray).strip().replace('\\n', ' ')"
   ]
  },
  {
   "cell_type": "code",
   "execution_count": 46,
   "metadata": {},
   "outputs": [
    {
     "data": {
      "text/plain": [
       "'FLT ee TAN er td'"
      ]
     },
     "execution_count": 46,
     "metadata": {},
     "output_type": "execute_result"
    }
   ],
   "source": [
    "ocr_text(cv2.imread(\"licence_plates/MA/001/001_bottom.png\"))"
   ]
  },
  {
   "cell_type": "code",
   "execution_count": 39,
   "metadata": {},
   "outputs": [
    {
     "data": {
      "text/plain": [
       "\"Parallax effects consist af several layers that slide over each other. By choosing a background image in the menu item Design the first layer can be set as a fixed image. By inserting the widget Images or the widget Text, a background (photo or monochrome) can be selected, This background must be created in Jimdo Creator across the entire width of the page and thus eee ea aur eRe Cae uke cn eR ene Sea ee iri Ce UNA e Luc eer tcc cate but the parallax effect is quite good.  Besides this parallax type, there is a second, much more elegant parallax. This allows nat only a parallax or not only that many pictures can be scrolled over a background, but also that Se ct uc Ue Cee SC enc Me ake Ce CCR oC aun Tac cy Jimdo widgets or settings, but requires an installation via himl code. If you're interested in ern emt ain\""
      ]
     },
     "execution_count": 39,
     "metadata": {},
     "output_type": "execute_result"
    }
   ],
   "source": [
    "ocr_text(cv2.imread(\"images/text.png\"))"
   ]
  },
  {
   "cell_type": "code",
   "execution_count": null,
   "metadata": {},
   "outputs": [],
   "source": []
  }
 ],
 "metadata": {
  "kernelspec": {
   "display_name": "Python 3",
   "language": "python",
   "name": "python3"
  },
  "language_info": {
   "codemirror_mode": {
    "name": "ipython",
    "version": 3
   },
   "file_extension": ".py",
   "mimetype": "text/x-python",
   "name": "python",
   "nbconvert_exporter": "python",
   "pygments_lexer": "ipython3",
   "version": "3.7.7"
  }
 },
 "nbformat": 4,
 "nbformat_minor": 4
}
