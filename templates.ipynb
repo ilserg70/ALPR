{
 "cells": [
  {
   "cell_type": "markdown",
   "metadata": {},
   "source": [
    "# Templates of licence plates"
   ]
  },
  {
   "cell_type": "code",
   "execution_count": null,
   "metadata": {},
   "outputs": [],
   "source": [
    "import cv2\n",
    "import numpy as np\n",
    "from pathlib import Path"
   ]
  },
  {
   "cell_type": "markdown",
   "metadata": {},
   "source": [
    "### Resize to the same size"
   ]
  },
  {
   "cell_type": "code",
   "execution_count": null,
   "metadata": {},
   "outputs": [],
   "source": [
    "def resize_to_the_same_size(files):\n",
    "    w0, h0 = None, None\n",
    "    for inp_file in  files:\n",
    "        frame = cv2.imread(inp_file)\n",
    "        if w0 is None:\n",
    "            h0, w0, c = frame.shape\n",
    "        else:\n",
    "            frame2 = cv2.resize(frame, (w0, h0), interpolation = cv2.INTER_AREA)\n",
    "            cv2.imwrite(inp_file, frame2)"
   ]
  },
  {
   "cell_type": "code",
   "execution_count": null,
   "metadata": {},
   "outputs": [],
   "source": [
    "files = [f\"licence_plates/CA/{id_}.png\" for id_ in ['001','002','003','004','005','006','007','008','009','010']]\n",
    "resize_to_the_same_size(files)"
   ]
  },
  {
   "cell_type": "code",
   "execution_count": null,
   "metadata": {},
   "outputs": [],
   "source": [
    "files = [f\"licence_plates/MA/{id_}.png\" for id_ in ['001','002','003','004','005','006','007']]\n",
    "resize_to_the_same_size(files)"
   ]
  },
  {
   "cell_type": "markdown",
   "metadata": {},
   "source": [
    "### Make a template"
   ]
  },
  {
   "cell_type": "code",
   "execution_count": null,
   "metadata": {},
   "outputs": [],
   "source": [
    "id_ = '001'\n",
    "inp_file = f\"licence_plates/CA/{id_}.png\"\n",
    "out_dir = Path(f\"licence_plates/CA/{id_}\")\n",
    "out_dir.mkdir(parents=True, exist_ok=True)\n",
    "\n",
    "frame = cv2.imread(inp_file)\n",
    "h, w, _ = frame.shape\n",
    "print(f\"w = {w}, h = {h}\")\n",
    "\n",
    "template = {\n",
    "    'CA': {\n",
    "        'california': {'x1': 55, 'y1': 10, 'w': 200, 'h': 40},\n",
    "        'l1': {'x1': 8, 'y1': 55, 'w': 46, 'h': 85},\n",
    "        'l2': {'x1': 48, 'y1': 55, 'w': 46, 'h': 85},\n",
    "        'l3': {'x1': 88, 'y1': 55, 'w': 46, 'h': 85},\n",
    "        'l4': {'x1': 128, 'y1': 55, 'w': 46, 'h': 85},\n",
    "        'l5': {'x1': 168, 'y1': 55, 'w': 46, 'h': 85},\n",
    "        'l6': {'x1': 208, 'y1': 55, 'w': 46, 'h': 85},\n",
    "        'l7': {'x1': 248, 'y1': 55, 'w': 46, 'h': 85},\n",
    "        'bottom': {'x1': 70, 'y1': 137, 'w': 165, 'h': 16},\n",
    "        'top_left': {'x1': 4, 'y1': 10, 'w': 50,'h': 32},\n",
    "        'top_right': {'x1': 250, 'y1': 10, 'w': 50,'h': 32}\n",
    "    }\n",
    "}\n",
    "\n",
    "color = (0,255,0)\n",
    "for t in template['CA'].values():\n",
    "    cv2.rectangle(frame, (t['x1'], t['y1']), (t['x1'] + t['w'], t['y1'] + t['h']), color, 1)\n",
    "out_file = out_dir.joinpath(f\"{id_}_.png\")\n",
    "cv2.imwrite(str(out_file), frame)"
   ]
  },
  {
   "cell_type": "code",
   "execution_count": null,
   "metadata": {},
   "outputs": [],
   "source": [
    "id_ = '001'\n",
    "inp_file = f\"licence_plates/MA/{id_}.png\"\n",
    "out_dir = Path(f\"licence_plates/MA/{id_}\")\n",
    "out_dir.mkdir(parents=True, exist_ok=True)\n",
    "\n",
    "frame = cv2.imread(inp_file)\n",
    "h, w, _ = frame.shape\n",
    "print(f\"w = {w}, h = {h}\")\n",
    "\n",
    "template = {\n",
    "    'MA': {\n",
    "        'massachusetts': {'x1': 60, 'y1': 5, 'w': 180, 'h': 26},\n",
    "         'left': {'x1': 4, 'y1': 40, 'w': 70, 'h': 70},\n",
    "         'a': {'x1': 70, 'y1': 30, 'w': 46, 'h': 42},\n",
    "         'b': {'x1': 70, 'y1': 70, 'w': 46, 'h': 46},\n",
    "         'l1': {'x1': 110, 'y1': 35, 'w': 46, 'h': 82},\n",
    "         'l2': {'x1': 152, 'y1': 35, 'w': 46, 'h': 82},\n",
    "         'l3': {'x1': 194, 'y1': 35, 'w': 46, 'h': 82},\n",
    "         'l4': {'x1': 236, 'y1': 35, 'w': 46, 'h': 82},\n",
    "         'bottom': {'x1': 70, 'y1': 118, 'w': 150, 'h': 22},\n",
    "         'top_left': {'x1': 8, 'y1': 8, 'w': 55,'h': 26},\n",
    "         'top_right': {'x1': 244, 'y1': 8, 'w': 40,'h': 26}\n",
    "    }\n",
    "}\n",
    "\n",
    "color = (0,255,0)\n",
    "for t in template['MA'].values():\n",
    "    cv2.rectangle(frame, (t['x1'], t['y1']), (t['x1'] + t['w'], t['y1'] + t['h']), color, 1)\n",
    "out_file = out_dir.joinpath(f\"{id_}_.png\")\n",
    "cv2.imwrite(str(out_file), frame)"
   ]
  },
  {
   "cell_type": "code",
   "execution_count": null,
   "metadata": {},
   "outputs": [],
   "source": [
    "template = {\n",
    "    'CA': {\n",
    "        'california': {'x1': 55, 'y1': 10, 'w': 200, 'h': 40},\n",
    "        'l1': {'x1': 8, 'y1': 55, 'w': 46, 'h': 85},\n",
    "        'l2': {'x1': 48, 'y1': 55, 'w': 46, 'h': 85},\n",
    "        'l3': {'x1': 88, 'y1': 55, 'w': 46, 'h': 85},\n",
    "        'l4': {'x1': 128, 'y1': 55, 'w': 46, 'h': 85},\n",
    "        'l5': {'x1': 168, 'y1': 55, 'w': 46, 'h': 85},\n",
    "        'l6': {'x1': 208, 'y1': 55, 'w': 46, 'h': 85},\n",
    "        'l7': {'x1': 248, 'y1': 55, 'w': 46, 'h': 85},\n",
    "        'bottom': {'x1': 70, 'y1': 137, 'w': 165, 'h': 16},\n",
    "        'top_left': {'x1': 4, 'y1': 10, 'w': 50,'h': 32},\n",
    "        'top_right': {'x1': 250, 'y1': 10, 'w': 50,'h': 32}\n",
    "    },\n",
    "    'MA': {\n",
    "        'massachusetts': {'x1': 60, 'y1': 5, 'w': 180, 'h': 26},\n",
    "         'left': {'x1': 4, 'y1': 40, 'w': 70, 'h': 70},\n",
    "         'a': {'x1': 70, 'y1': 30, 'w': 46, 'h': 42},\n",
    "         'b': {'x1': 70, 'y1': 70, 'w': 46, 'h': 46},\n",
    "         'l1': {'x1': 110, 'y1': 35, 'w': 46, 'h': 82},\n",
    "         'l2': {'x1': 152, 'y1': 35, 'w': 46, 'h': 82},\n",
    "         'l3': {'x1': 194, 'y1': 35, 'w': 46, 'h': 82},\n",
    "         'l4': {'x1': 236, 'y1': 35, 'w': 46, 'h': 82},\n",
    "         'bottom': {'x1': 70, 'y1': 118, 'w': 150, 'h': 22},\n",
    "         'top_left': {'x1': 8, 'y1': 8, 'w': 55,'h': 26},\n",
    "         'top_right': {'x1': 244, 'y1': 8, 'w': 40,'h': 26}\n",
    "    }\n",
    "}"
   ]
  },
  {
   "cell_type": "markdown",
   "metadata": {},
   "source": [
    "### Normalize template"
   ]
  },
  {
   "cell_type": "code",
   "execution_count": null,
   "metadata": {},
   "outputs": [],
   "source": [
    "for t in template['MA'].values():\n",
    "    t['x1'] /= w\n",
    "    t['w'] /= w\n",
    "    t['y1'] /= h\n",
    "    t['h'] /= h"
   ]
  },
  {
   "cell_type": "code",
   "execution_count": null,
   "metadata": {},
   "outputs": [],
   "source": [
    "template"
   ]
  },
  {
   "cell_type": "code",
   "execution_count": null,
   "metadata": {},
   "outputs": [],
   "source": [
    "template_CA = {'california': {'x1': 0.18032786885245902,\n",
    "   'y1': 0.06451612903225806,\n",
    "   'w': 0.6557377049180327,\n",
    "   'h': 0.25806451612903225},\n",
    "  'l1': {'x1': 0.02622950819672131,\n",
    "   'y1': 0.3548387096774194,\n",
    "   'w': 0.15081967213114755,\n",
    "   'h': 0.5483870967741935},\n",
    "  'l2': {'x1': 0.15737704918032788,\n",
    "   'y1': 0.3548387096774194,\n",
    "   'w': 0.15081967213114755,\n",
    "   'h': 0.5483870967741935},\n",
    "  'l3': {'x1': 0.28852459016393445,\n",
    "   'y1': 0.3548387096774194,\n",
    "   'w': 0.15081967213114755,\n",
    "   'h': 0.5483870967741935},\n",
    "  'l4': {'x1': 0.419672131147541,\n",
    "   'y1': 0.3548387096774194,\n",
    "   'w': 0.15081967213114755,\n",
    "   'h': 0.5483870967741935},\n",
    "  'l5': {'x1': 0.5508196721311476,\n",
    "   'y1': 0.3548387096774194,\n",
    "   'w': 0.15081967213114755,\n",
    "   'h': 0.5483870967741935},\n",
    "  'l6': {'x1': 0.6819672131147541,\n",
    "   'y1': 0.3548387096774194,\n",
    "   'w': 0.15081967213114755,\n",
    "   'h': 0.5483870967741935},\n",
    "  'l7': {'x1': 0.8131147540983606,\n",
    "   'y1': 0.3548387096774194,\n",
    "   'w': 0.15081967213114755,\n",
    "   'h': 0.5483870967741935},\n",
    "  'bottom': {'x1': 0.22950819672131148,\n",
    "   'y1': 0.8838709677419355,\n",
    "   'w': 0.5409836065573771,\n",
    "   'h': 0.1032258064516129},\n",
    "  'top_left': {'x1': 0.013114754098360656,\n",
    "   'y1': 0.06451612903225806,\n",
    "   'w': 0.16393442622950818,\n",
    "   'h': 0.2064516129032258},\n",
    "  'top_right': {'x1': 0.819672131147541,\n",
    "   'y1': 0.06451612903225806,\n",
    "   'w': 0.16393442622950818,\n",
    "   'h': 0.2064516129032258}}\n",
    "\n",
    "template_MA = {'massachusetts': {'x1': 0.20689655172413793,\n",
    "   'y1': 0.03424657534246575,\n",
    "   'w': 0.6206896551724138,\n",
    "   'h': 0.1780821917808219},\n",
    "  'left': {'x1': 0.013793103448275862,\n",
    "   'y1': 0.273972602739726,\n",
    "   'w': 0.2413793103448276,\n",
    "   'h': 0.4794520547945205},\n",
    "  'a': {'x1': 0.2413793103448276,\n",
    "   'y1': 0.2054794520547945,\n",
    "   'w': 0.15862068965517243,\n",
    "   'h': 0.2876712328767123},\n",
    "  'b': {'x1': 0.2413793103448276,\n",
    "   'y1': 0.4794520547945205,\n",
    "   'w': 0.15862068965517243,\n",
    "   'h': 0.3150684931506849},\n",
    "  'l1': {'x1': 0.3793103448275862,\n",
    "   'y1': 0.23972602739726026,\n",
    "   'w': 0.15862068965517243,\n",
    "   'h': 0.5616438356164384},\n",
    "  'l2': {'x1': 0.5241379310344828,\n",
    "   'y1': 0.23972602739726026,\n",
    "   'w': 0.15862068965517243,\n",
    "   'h': 0.5616438356164384},\n",
    "  'l3': {'x1': 0.6689655172413793,\n",
    "   'y1': 0.23972602739726026,\n",
    "   'w': 0.15862068965517243,\n",
    "   'h': 0.5616438356164384},\n",
    "  'l4': {'x1': 0.8137931034482758,\n",
    "   'y1': 0.23972602739726026,\n",
    "   'w': 0.15862068965517243,\n",
    "   'h': 0.5616438356164384},\n",
    "  'bottom': {'x1': 0.2413793103448276,\n",
    "   'y1': 0.8082191780821918,\n",
    "   'w': 0.5172413793103449,\n",
    "   'h': 0.1506849315068493},\n",
    "  'top_left': {'x1': 0.027586206896551724,\n",
    "   'y1': 0.0547945205479452,\n",
    "   'w': 0.1896551724137931,\n",
    "   'h': 0.1780821917808219},\n",
    "  'top_right': {'x1': 0.8413793103448276,\n",
    "   'y1': 0.0547945205479452,\n",
    "   'w': 0.13793103448275862,\n",
    "   'h': 0.1780821917808219}}"
   ]
  },
  {
   "cell_type": "markdown",
   "metadata": {},
   "source": [
    "### Extract ROIs"
   ]
  },
  {
   "cell_type": "code",
   "execution_count": null,
   "metadata": {},
   "outputs": [],
   "source": [
    "def points(t, w, h):\n",
    "    x1 = int(t['x1'] * w)\n",
    "    y1 = int(t['y1'] * h)\n",
    "    x2 = int((t['x1'] + t['w']) * w)\n",
    "    y2 = int((t['y1'] + t['h']) * h)\n",
    "    return x1, y1, x2, y2\n",
    "\n",
    "def extract_roi(in_dir, ids, template):\n",
    "    for id_ in  ids:\n",
    "        inp_file = Path(in_dir).joinpath(f\"{id_}.png\")\n",
    "        out_dir = Path(in_dir).joinpath(f\"{id_}\")\n",
    "        out_dir.mkdir(parents=True, exist_ok=True)\n",
    "\n",
    "        frame = cv2.imread(str(inp_file))\n",
    "        h, w, _ = frame.shape\n",
    "\n",
    "        for k, t in template.items():\n",
    "            x1, y1, x2, y2 = points(t, w, h)\n",
    "            f = out_dir.joinpath(f\"{id_}_{k}.png\")\n",
    "            cv2.imwrite(str(f), frame[y1:y2, x1: x2])\n",
    "\n",
    "        color = (0,255,0)\n",
    "        for t in template.values():\n",
    "            x1, y1, x2, y2 = points(t, w, h)\n",
    "            cv2.rectangle(frame, (x1, y1), (x2, y2), color, 1)\n",
    "        out_file = out_dir.joinpath(f\"{id_}_.png\")\n",
    "        cv2.imwrite(str(out_file), frame)"
   ]
  },
  {
   "cell_type": "code",
   "execution_count": null,
   "metadata": {},
   "outputs": [],
   "source": [
    "ids = ['001','002','003','004','005','006','007','008','009','010']\n",
    "extract_roi(f\"licence_plates/CA\", ids, template_CA)"
   ]
  },
  {
   "cell_type": "code",
   "execution_count": null,
   "metadata": {},
   "outputs": [],
   "source": [
    "ids = ['001','002','003','004','005','006','007']\n",
    "extract_roi(f\"licence_plates/MA\", ids, template_MA)"
   ]
  },
  {
   "cell_type": "markdown",
   "metadata": {},
   "source": [
    "### Summarize images"
   ]
  },
  {
   "cell_type": "code",
   "execution_count": null,
   "metadata": {},
   "outputs": [],
   "source": [
    "def summarize(files, out_file):\n",
    "    frame, n = None, 0\n",
    "    for f_ in files:\n",
    "        frame_ = cv2.imread(f_)\n",
    "        if frame is None:\n",
    "            frame = frame_\n",
    "        else:\n",
    "            frame = frame + frame_\n",
    "        n += 1\n",
    "    cv2.imwrite(out_file, (frame).astype(int))"
   ]
  },
  {
   "cell_type": "code",
   "execution_count": null,
   "metadata": {},
   "outputs": [],
   "source": [
    "files = [f\"licence_plates/CA/{id_}.png\" for id_ in ['001','002','003','004','005','006','007','008','009','010']]\n",
    "summarize(files, \"licence_plates/CA/000.png\")"
   ]
  },
  {
   "cell_type": "code",
   "execution_count": null,
   "metadata": {},
   "outputs": [],
   "source": [
    "frame = cv2.imread(\"licence_plates/MA/001.png\")\n",
    "h, w, _ = frame.shape\n",
    "\n",
    "frame[:,:] = 0\n",
    "\n",
    "color = (0,255,0)\n",
    "for t in template_MA.values():\n",
    "    x1, y1, x2, y2 = points(t, w, h)\n",
    "    cv2.rectangle(frame, (x1, y1), (x2, y2), color, 1)\n",
    "cv2.imwrite(\"licence_plates/MA/000.png\", frame)\n"
   ]
  },
  {
   "cell_type": "markdown",
   "metadata": {},
   "source": [
    "### OCR of single symbols (words)"
   ]
  },
  {
   "cell_type": "code",
   "execution_count": 40,
   "metadata": {},
   "outputs": [],
   "source": [
    "import cv2\n",
    "import pytesseract\n",
    "\n",
    "# Using psm 8 because we only have a single “word”\n",
    "pytesseract.pytesseract.tesseract_cmd = 'tesseract'\n",
    "custom_oem_psm_config = '--dpi 300 --oem 3 --psm 8'\n",
    "\n",
    "def ocr_symbol(img):\n",
    "    gray = cv2.cvtColor(img, cv2.COLOR_RGB2GRAY)\n",
    "    gray = cv2.threshold(gray, 0, 255, cv2.THRESH_BINARY | cv2.THRESH_OTSU)[1]\n",
    "    gray = cv2.medianBlur(gray, 3)\n",
    "    return pytesseract.image_to_string(gray, config=custom_oem_psm_config, timeout=2).strip()"
   ]
  },
  {
   "cell_type": "code",
   "execution_count": 62,
   "metadata": {},
   "outputs": [
    {
     "data": {
      "text/plain": [
       "'Massachusetts'"
      ]
     },
     "execution_count": 62,
     "metadata": {},
     "output_type": "execute_result"
    }
   ],
   "source": [
    "ocr_symbol(cv2.imread(\"licence_plates/MA/001/001_massachusetts.png\"))"
   ]
  },
  {
   "cell_type": "code",
   "execution_count": 48,
   "metadata": {},
   "outputs": [
    {
     "data": {
      "text/plain": [
       "'SEP'"
      ]
     },
     "execution_count": 48,
     "metadata": {},
     "output_type": "execute_result"
    }
   ],
   "source": [
    "ocr_symbol(cv2.imread(\"licence_plates/MA/001/001_top_left.png\"))"
   ]
  },
  {
   "cell_type": "code",
   "execution_count": 66,
   "metadata": {},
   "outputs": [
    {
     "data": {
      "text/plain": [
       "'77YP290'"
      ]
     },
     "execution_count": 66,
     "metadata": {},
     "output_type": "execute_result"
    }
   ],
   "source": [
    "ocr_symbol(cv2.imread(\"licence_plates/CA/001.png\"))"
   ]
  },
  {
   "cell_type": "code",
   "execution_count": 80,
   "metadata": {},
   "outputs": [
    {
     "data": {
      "text/plain": [
       "'Cobiforrie 7 T Y P 2 9 0 amv.ca.gov'"
      ]
     },
     "execution_count": 80,
     "metadata": {},
     "output_type": "execute_result"
    }
   ],
   "source": [
    "ll = ['california','l1','l2','l3','l4','l5','l6','l7','bottom']\n",
    "' '.join([ocr_symbol(cv2.imread(f\"licence_plates/CA/001/001_{l}.png\")) for l in ll])"
   ]
  },
  {
   "cell_type": "code",
   "execution_count": 68,
   "metadata": {},
   "outputs": [
    {
     "data": {
      "text/plain": [
       "'251980'"
      ]
     },
     "execution_count": 68,
     "metadata": {},
     "output_type": "execute_result"
    }
   ],
   "source": [
    "ocr_symbol(cv2.imread(\"licence_plates/MA/001.png\"))"
   ]
  },
  {
   "cell_type": "code",
   "execution_count": 77,
   "metadata": {},
   "outputs": [
    {
     "data": {
      "text/plain": [
       "'SEP Massachusetts Pp Ss 1 9 8 0 | Provect and Serer”'"
      ]
     },
     "execution_count": 77,
     "metadata": {},
     "output_type": "execute_result"
    }
   ],
   "source": [
    "ll = ['top_left','massachusetts','a','b','l1','l2','l3','l4','bottom']\n",
    "' '.join([ocr_symbol(cv2.imread(f\"licence_plates/MA/001/001_{l}.png\")) for l in ll])"
   ]
  },
  {
   "cell_type": "markdown",
   "metadata": {},
   "source": [
    "### OCR with text"
   ]
  },
  {
   "cell_type": "code",
   "execution_count": 36,
   "metadata": {},
   "outputs": [],
   "source": [
    "import cv2\n",
    "import pytesseract\n",
    "import numpy as np\n",
    "\n",
    "def ocr_text(img):\n",
    "    gray = cv2.cvtColor(img, cv2.COLOR_RGB2GRAY)\n",
    "    gray, img_bin = cv2.threshold(gray,128,255,cv2.THRESH_BINARY | cv2.THRESH_OTSU)\n",
    "    gray = cv2.bitwise_not(img_bin)\n",
    "\n",
    "    kernel = np.ones((2, 1), np.uint8)\n",
    "    gray = cv2.erode(gray, kernel, iterations=1)\n",
    "    gray = cv2.dilate(gray, kernel, iterations=1)\n",
    "    return pytesseract.image_to_string(gray).strip().replace('\\n', ' ')"
   ]
  },
  {
   "cell_type": "code",
   "execution_count": 46,
   "metadata": {},
   "outputs": [
    {
     "data": {
      "text/plain": [
       "'FLT ee TAN er td'"
      ]
     },
     "execution_count": 46,
     "metadata": {},
     "output_type": "execute_result"
    }
   ],
   "source": [
    "ocr_text(cv2.imread(\"licence_plates/MA/001/001_bottom.png\"))"
   ]
  },
  {
   "cell_type": "code",
   "execution_count": 39,
   "metadata": {},
   "outputs": [
    {
     "data": {
      "text/plain": [
       "\"Parallax effects consist af several layers that slide over each other. By choosing a background image in the menu item Design the first layer can be set as a fixed image. By inserting the widget Images or the widget Text, a background (photo or monochrome) can be selected, This background must be created in Jimdo Creator across the entire width of the page and thus eee ea aur eRe Cae uke cn eR ene Sea ee iri Ce UNA e Luc eer tcc cate but the parallax effect is quite good.  Besides this parallax type, there is a second, much more elegant parallax. This allows nat only a parallax or not only that many pictures can be scrolled over a background, but also that Se ct uc Ue Cee SC enc Me ake Ce CCR oC aun Tac cy Jimdo widgets or settings, but requires an installation via himl code. If you're interested in ern emt ain\""
      ]
     },
     "execution_count": 39,
     "metadata": {},
     "output_type": "execute_result"
    }
   ],
   "source": [
    "ocr_text(cv2.imread(\"images/text.png\"))"
   ]
  },
  {
   "cell_type": "code",
   "execution_count": null,
   "metadata": {},
   "outputs": [],
   "source": []
  }
 ],
 "metadata": {
  "kernelspec": {
   "display_name": "Python 3",
   "language": "python",
   "name": "python3"
  },
  "language_info": {
   "codemirror_mode": {
    "name": "ipython",
    "version": 3
   },
   "file_extension": ".py",
   "mimetype": "text/x-python",
   "name": "python",
   "nbconvert_exporter": "python",
   "pygments_lexer": "ipython3",
   "version": "3.7.7"
  }
 },
 "nbformat": 4,
 "nbformat_minor": 4
}
