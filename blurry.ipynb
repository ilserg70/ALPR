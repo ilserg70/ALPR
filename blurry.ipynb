{
 "cells": [
  {
   "cell_type": "markdown",
   "metadata": {},
   "source": [
    "# Blurry licence plates"
   ]
  },
  {
   "cell_type": "code",
   "execution_count": 1,
   "metadata": {},
   "outputs": [],
   "source": [
    "from pathlib import Path\n",
    "import cv2\n",
    "import numpy as np\n",
    "import pytesseract"
   ]
  },
  {
   "cell_type": "code",
   "execution_count": 2,
   "metadata": {},
   "outputs": [],
   "source": [
    "w_dir = \"licence_plates/blurry/\"\n",
    "files = [\n",
    "    'incorrect_8EVI580_8FVI580.jpg',\n",
    "    'incorrect_8F72061_8F72041.jpg',\n",
    "    'incorrect_8FDD500_BFDD500.jpg',\n",
    "    'incorrect_8JYF020_8JVF020.jpg',\n",
    "    'incorrect_8MW8969_8MWB969.jpg']"
   ]
  },
  {
   "cell_type": "markdown",
   "metadata": {},
   "source": [
    "### Make a template"
   ]
  },
  {
   "cell_type": "code",
   "execution_count": 19,
   "metadata": {},
   "outputs": [
    {
     "name": "stdout",
     "output_type": "stream",
     "text": [
      "w = 128, h = 64\n"
     ]
    },
    {
     "data": {
      "text/plain": [
       "True"
      ]
     },
     "execution_count": 19,
     "metadata": {},
     "output_type": "execute_result"
    }
   ],
   "source": [
    "frame = cv2.imread(w_dir + files[2])\n",
    "h, w, _ = frame.shape\n",
    "print(f\"w = {w}, h = {h}\")\n",
    "\n",
    "template = {\n",
    "    'l1': {'x1': 7, 'y1': 20, 'w': 18, 'h': 32},\n",
    "    'l2': {'x1': 23, 'y1': 20, 'w': 18, 'h': 32},\n",
    "    'l3': {'x1': 39, 'y1': 20, 'w': 18, 'h': 32},\n",
    "    'l4': {'x1': 55, 'y1': 20, 'w': 18, 'h': 32},\n",
    "    'l5': {'x1': 71, 'y1': 20, 'w': 18, 'h': 32},\n",
    "    'l6': {'x1': 87, 'y1': 20, 'w': 18, 'h': 32},\n",
    "    'l7': {'x1': 103, 'y1': 20, 'w': 18, 'h': 32},\n",
    "}\n",
    "\n",
    "color = (0,255,0)\n",
    "for t in template.values():\n",
    "    cv2.rectangle(frame, (t['x1'], t['y1']), (t['x1'] + t['w'], t['y1'] + t['h']), color, 1)\n",
    "\n",
    "cv2.imwrite(w_dir + \"tmp.jpg\", frame)"
   ]
  },
  {
   "cell_type": "code",
   "execution_count": 17,
   "metadata": {},
   "outputs": [
    {
     "data": {
      "text/plain": [
       "True"
      ]
     },
     "execution_count": 17,
     "metadata": {},
     "output_type": "execute_result"
    }
   ],
   "source": [
    "frame[:,:,:] = 0\n",
    "color = (0,255,0)\n",
    "for t in template.values():\n",
    "    cv2.rectangle(frame, (t['x1'], t['y1']), (t['x1'] + t['w'], t['y1'] + t['h']), color, 1)\n",
    "\n",
    "cv2.imwrite(w_dir + \"template.jpg\", frame)"
   ]
  },
  {
   "cell_type": "markdown",
   "metadata": {},
   "source": [
    "### OCR of single symbols (words)"
   ]
  },
  {
   "cell_type": "code",
   "execution_count": 14,
   "metadata": {},
   "outputs": [],
   "source": [
    "# Using psm 8 because we only have a single “word”\n",
    "pytesseract.pytesseract.tesseract_cmd = 'tesseract'\n",
    "custom_oem_psm_config = '--dpi 300 --oem 3 --psm 8'\n",
    "\n",
    "def prepare_symbol(img):\n",
    "    gray = cv2.cvtColor(img, cv2.COLOR_RGB2GRAY)\n",
    "    gray = cv2.threshold(gray, 0, 255, cv2.THRESH_BINARY | cv2.THRESH_OTSU)[1]\n",
    "    gray = cv2.medianBlur(gray, 3)\n",
    "    return gray\n",
    "\n",
    "def ocr_symbol(img):\n",
    "    gray = prepare_symbol(img)\n",
    "    return pytesseract.image_to_string(gray, config=custom_oem_psm_config, timeout=2).strip()\n",
    "\n",
    "def detect_lp(img, template):\n",
    "    plate = ocr_symbol(img)\n",
    "    symbols = []\n",
    "    for t in template.values():\n",
    "        smbl_img = img[t['y1']: t['y1'] + t['h'], t['x1']: t['x1'] + t['w']]\n",
    "        symbols.append(ocr_symbol(smbl_img))\n",
    "    return plate, ''.join(symbols)"
   ]
  },
  {
   "cell_type": "code",
   "execution_count": 15,
   "metadata": {},
   "outputs": [
    {
     "name": "stdout",
     "output_type": "stream",
     "text": [
      "incorrect_8EVI580_8FVI580.jpg => LaF VTSAQ) ~ 8F¥I5a0\n",
      "incorrect_8F72061_8F72041.jpg => BF 72C41 ~ ar7?1,I\n",
      "incorrect_8FDD500_BFDD500.jpg => prnpson§ ~ QF7fn5fi\n",
      "incorrect_8JYF020_8JVF020.jpg => | ~ -74c93.\n",
      "incorrect_8MW8969_8MWB969.jpg => fevszse9] ~ if¥‘Yd19i9\n"
     ]
    }
   ],
   "source": [
    "for f in files:\n",
    "    img = cv2.imread(w_dir + f)\n",
    "    plate, symbols = detect_lp(img, template)\n",
    "    print(f\"{f} => {plate} ~ {symbols}\")"
   ]
  },
  {
   "cell_type": "code",
   "execution_count": 6,
   "metadata": {},
   "outputs": [],
   "source": [
    "for f in files:\n",
    "    name = Path(f).stem\n",
    "    out_dir = Path(w_dir).joinpath(name)\n",
    "    out_dir.mkdir(parents=True, exist_ok=True)\n",
    "    img = cv2.imread(str(Path(w_dir).joinpath(f)))\n",
    "    for l, t in template.items():\n",
    "        smbl_img = img[t['y1']: t['y1'] + t['h'], t['x1']: t['x1'] + t['w']]\n",
    "        cv2.imwrite(str(out_dir.joinpath(f\"{l}.jpg\")), smbl_img)\n",
    "        gray_img = prepare_symbol(smbl_img)\n",
    "        cv2.imwrite(str(out_dir.joinpath(f\"{l}_.jpg\")), gray_img)"
   ]
  },
  {
   "cell_type": "code",
   "execution_count": 11,
   "metadata": {},
   "outputs": [
    {
     "name": "stdout",
     "output_type": "stream",
     "text": [
      "8\n",
      "F\n",
      "¥\n",
      "I\n",
      "5\n",
      "8\n",
      "0\n"
     ]
    }
   ],
   "source": [
    "def prepare_symbol(img):\n",
    "#     lab= cv2.cvtColor(img, cv2.COLOR_BGR2LAB)\n",
    "#     l, a, b = cv2.split(lab)\n",
    "#     clahe = cv2.createCLAHE(clipLimit=3.0, tileGridSize=(8,8))\n",
    "#     cl = clahe.apply(l)\n",
    "#     limg = cv2.merge((cl,a,b))\n",
    "#     img = cv2.cvtColor(limg, cv2.COLOR_LAB2BGR)\n",
    "    \n",
    "    gray = cv2.cvtColor(img, cv2.COLOR_BGR2GRAY)\n",
    "    gray = cv2.threshold(gray, 0, 255, cv2.THRESH_BINARY | cv2.THRESH_OTSU)[1]\n",
    "    gray = cv2.medianBlur(gray, 3)\n",
    "    return gray\n",
    "\n",
    "dir_ = Path(w_dir).joinpath(\"incorrect_8EVI580_8FVI580\")\n",
    "for n in range(1,8):\n",
    "    smbl_img = cv2.imread(str(dir_.joinpath(f\"l{str(n)}.jpg\")))\n",
    "    gray = prepare_symbol(smbl_img)\n",
    "    cv2.imwrite(str(dir_.joinpath(f\"l{str(n)}_.jpg\")), gray)\n",
    "    c = pytesseract.image_to_string(gray, config=custom_oem_psm_config, timeout=2).strip()\n",
    "    print(c)"
   ]
  },
  {
   "cell_type": "code",
   "execution_count": null,
   "metadata": {},
   "outputs": [],
   "source": [
    "8F¥I5a0"
   ]
  }
 ],
 "metadata": {
  "kernelspec": {
   "display_name": "Python 3",
   "language": "python",
   "name": "python3"
  },
  "language_info": {
   "codemirror_mode": {
    "name": "ipython",
    "version": 3
   },
   "file_extension": ".py",
   "mimetype": "text/x-python",
   "name": "python",
   "nbconvert_exporter": "python",
   "pygments_lexer": "ipython3",
   "version": "3.7.7"
  }
 },
 "nbformat": 4,
 "nbformat_minor": 4
}
